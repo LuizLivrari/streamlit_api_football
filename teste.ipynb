{
 "cells": [
  {
   "cell_type": "code",
   "execution_count": 11,
   "metadata": {},
   "outputs": [],
   "source": [
    "listTeste = [\n",
    "{\n",
    "'type': \"Shots on Goal\",\n",
    "'value': 5\n",
    "},\n",
    "{\n",
    "'type': \"Shots off Goal\",\n",
    "'value': 5\n",
    "},\n",
    "{\n",
    "'type': \"Total Shots\",\n",
    "'value': 14\n",
    "},\n",
    "{\n",
    "'type': \"Blocked Shots\",\n",
    "'value': 4\n",
    "},\n",
    "{\n",
    "'type': \"Shots insidebox\",\n",
    "'value': 9\n",
    "},\n",
    "{\n",
    "'type': \"Shots outsidebox\",\n",
    "'value': 5\n",
    "},\n",
    "{\n",
    "'type': \"Fouls\",\n",
    "'value': 10\n",
    "},\n",
    "{\n",
    "'type': \"Corner Kicks\",\n",
    "'value': 4\n",
    "},\n",
    "{\n",
    "'type': \"Offsides\",\n",
    "'value': None\n",
    "},\n",
    "{\n",
    "'type': \"Ball Possession\",\n",
    "'value': \"30%\"\n",
    "},\n",
    "{\n",
    "'type': \"Yellow Cards\",\n",
    "'value': 1\n",
    "},\n",
    "{\n",
    "'type': \"Red Cards\",\n",
    "'value': 1\n",
    "},\n",
    "{\n",
    "'type': \"Goalkeeper Saves\",\n",
    "'value': 10\n",
    "},\n",
    "{\n",
    "'type': \"Total passes\",\n",
    "'value': 217\n",
    "},\n",
    "{\n",
    "'type': \"Passes accurate\",\n",
    "'value': 149\n",
    "},\n",
    "{\n",
    "'type': \"Passes %\",\n",
    "'value': \"69%\"\n",
    "},\n",
    "{\n",
    "'type': \"expected_goals\",\n",
    "'value': \"1.47\"\n",
    "},\n",
    "{\n",
    "'type': \"goals_prevented\",\n",
    "'value': 0\n",
    "}\n",
    "]"
   ]
  },
  {
   "cell_type": "code",
   "execution_count": 18,
   "metadata": {},
   "outputs": [
    {
     "data": {
      "text/html": [
       "<div>\n",
       "<style scoped>\n",
       "    .dataframe tbody tr th:only-of-type {\n",
       "        vertical-align: middle;\n",
       "    }\n",
       "\n",
       "    .dataframe tbody tr th {\n",
       "        vertical-align: top;\n",
       "    }\n",
       "\n",
       "    .dataframe thead th {\n",
       "        text-align: right;\n",
       "    }\n",
       "</style>\n",
       "<table border=\"1\" class=\"dataframe\">\n",
       "  <thead>\n",
       "    <tr style=\"text-align: right;\">\n",
       "      <th></th>\n",
       "      <th>Shots on Goal</th>\n",
       "      <th>Shots off Goal</th>\n",
       "      <th>Total Shots</th>\n",
       "      <th>Blocked Shots</th>\n",
       "      <th>Shots insidebox</th>\n",
       "      <th>Shots outsidebox</th>\n",
       "      <th>Fouls</th>\n",
       "      <th>Corner Kicks</th>\n",
       "      <th>Offsides</th>\n",
       "      <th>Ball Possession</th>\n",
       "      <th>Yellow Cards</th>\n",
       "      <th>Red Cards</th>\n",
       "      <th>Goalkeeper Saves</th>\n",
       "      <th>Total passes</th>\n",
       "      <th>Passes accurate</th>\n",
       "      <th>Passes %</th>\n",
       "      <th>expected_goals</th>\n",
       "      <th>goals_prevented</th>\n",
       "    </tr>\n",
       "  </thead>\n",
       "  <tbody>\n",
       "  </tbody>\n",
       "</table>\n",
       "</div>"
      ],
      "text/plain": [
       "Empty DataFrame\n",
       "Columns: [Shots on Goal, Shots off Goal, Total Shots, Blocked Shots, Shots insidebox, Shots outsidebox, Fouls, Corner Kicks, Offsides, Ball Possession, Yellow Cards, Red Cards, Goalkeeper Saves, Total passes, Passes accurate, Passes %, expected_goals, goals_prevented]\n",
       "Index: []"
      ]
     },
     "execution_count": 18,
     "metadata": {},
     "output_type": "execute_result"
    }
   ],
   "source": [
    "import pandas as pd\n",
    "listTeste\n",
    "dicTeste = { valor['type'] : valor['value'] for valor in listTeste }\n",
    "\n",
    "dfTeste = pd.DataFrame( columns=dicTeste.keys())\n",
    "\n",
    "dfTeste\n"
   ]
  },
  {
   "cell_type": "code",
   "execution_count": 6,
   "metadata": {},
   "outputs": [
    {
     "data": {
      "text/plain": [
       "datetime.datetime(2024, 4, 14, 18, 30)"
      ]
     },
     "execution_count": 6,
     "metadata": {},
     "output_type": "execute_result"
    }
   ],
   "source": [
    "import datetime\n",
    "\n",
    "datetime.datetime.fromtimestamp(1713130200)"
   ]
  },
  {
   "cell_type": "code",
   "execution_count": 16,
   "metadata": {},
   "outputs": [
    {
     "data": {
      "text/plain": [
       "dict_keys(['a'])"
      ]
     },
     "execution_count": 16,
     "metadata": {},
     "output_type": "execute_result"
    }
   ],
   "source": [
    "varlista = {\n",
    "\t'a': 'b',\n",
    "}\n",
    "\n",
    "varlista.keys()"
   ]
  },
  {
   "cell_type": "code",
   "execution_count": 6,
   "metadata": {},
   "outputs": [
    {
     "data": {
      "text/plain": [
       "43"
      ]
     },
     "metadata": {},
     "output_type": "display_data"
    },
    {
     "name": "stdout",
     "output_type": "stream",
     "text": [
      "O intervalo é menor do que 10 minutos.\n"
     ]
    }
   ],
   "source": [
    "from datetime import datetime, timedelta\n",
    "\n",
    "# Exemplo de datas/horas\n",
    "inicio = datetime(2024, 9, 1, 20, 5, 13)  # Exemplo: 1 de setembro de 2024, 20:00:00\n",
    "fim = datetime(2024, 9, 1, 20, 5, 30)    # Exemplo: 1 de setembro de 2024, 20:05:30\n",
    "\n",
    "# Calcular a diferença entre as duas datas/horas\n",
    "intervalo = fim - inicio\n",
    "\n",
    "display( 60 - intervalo.seconds)\n",
    "\n",
    "\n",
    "\n",
    "# Comparar se o intervalo é menor que 10 minutos\n",
    "if intervalo < timedelta(minutes=10):\n",
    "    print(\"O intervalo é menor do que 10 minutos.\")\n",
    "else:\n",
    "    print(\"O intervalo é maior ou igual a 10 minutos.\")\n"
   ]
  },
  {
   "cell_type": "code",
   "execution_count": 14,
   "metadata": {},
   "outputs": [
    {
     "data": {
      "text/plain": [
       "True"
      ]
     },
     "execution_count": 14,
     "metadata": {},
     "output_type": "execute_result"
    }
   ],
   "source": [
    "errors= {\n",
    "        \"rateLimit\": \"Too many requests. Your rate limit is 10 requests per minute.\",\n",
    "        \"teste\": \"ABC\",\n",
    "        \"outroteste\": \"DEFG\",\n",
    "    }\n",
    "\n",
    "'teste' in errors.keys()"
   ]
  }
 ],
 "metadata": {
  "kernelspec": {
   "display_name": ".venv",
   "language": "python",
   "name": "python3"
  },
  "language_info": {
   "codemirror_mode": {
    "name": "ipython",
    "version": 3
   },
   "file_extension": ".py",
   "mimetype": "text/x-python",
   "name": "python",
   "nbconvert_exporter": "python",
   "pygments_lexer": "ipython3",
   "version": "3.12.5"
  }
 },
 "nbformat": 4,
 "nbformat_minor": 2
}
